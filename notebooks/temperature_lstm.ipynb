version https://git-lfs.github.com/spec/v1
oid sha256:a69089b090d96c5fc46f909b134686ce27dd0e851a6b0650f3a415a0f8967292
size 19150
