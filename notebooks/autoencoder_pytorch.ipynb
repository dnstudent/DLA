version https://git-lfs.github.com/spec/v1
oid sha256:00660a198ce0aa24c2aa61a104855733f366f1da14e715ceb63e3d64aa71c1d7
size 24850
