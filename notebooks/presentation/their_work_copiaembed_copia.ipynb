version https://git-lfs.github.com/spec/v1
oid sha256:ada2a30529c1978fe6b83256339b2af3dbf43f6f2cfefe89ca24382783180ebe
size 252063
