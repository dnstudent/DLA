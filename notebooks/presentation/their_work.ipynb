version https://git-lfs.github.com/spec/v1
oid sha256:f29390f36a61960cf2eba6692b65e5d5d976733d4282b8ae07bf1b67736ad8b0
size 143572
