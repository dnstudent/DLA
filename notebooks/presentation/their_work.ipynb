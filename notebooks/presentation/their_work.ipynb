version https://git-lfs.github.com/spec/v1
oid sha256:86566f60c50bd0c0cf2e9f41a90f32e5a3b9b785bc718f21105ec94829292026
size 342725
