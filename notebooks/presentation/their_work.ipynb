version https://git-lfs.github.com/spec/v1
oid sha256:36a96ee38fe96c3b8573b841cb2598c9c871755192be999c5cf0d5b58d56e52b
size 1035035
