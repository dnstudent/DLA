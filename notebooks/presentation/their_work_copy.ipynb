version https://git-lfs.github.com/spec/v1
oid sha256:96a11f13da404ee6b2db052bd2d008df61a621f49930828ab1a59ee61b2712f2
size 928227
