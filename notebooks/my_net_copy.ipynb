version https://git-lfs.github.com/spec/v1
oid sha256:658e4e0ca8c70bb03724164bb24ab32f97fe2cd725090878ed3290f1e69bce45
size 267685
