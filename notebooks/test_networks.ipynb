version https://git-lfs.github.com/spec/v1
oid sha256:ae11bd912431c98f5fc2060f169e6407c66ace9cb4c63ebd94a3763b9f3c5a96
size 130177
