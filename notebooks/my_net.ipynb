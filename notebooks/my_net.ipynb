version https://git-lfs.github.com/spec/v1
oid sha256:53e06d32c4157f753b73b7d3b0f1e4c6c88be54e6aaf619e6dbe2ff0d30807f6
size 72609
