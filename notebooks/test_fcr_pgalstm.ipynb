version https://git-lfs.github.com/spec/v1
oid sha256:d92092d21fcf57c2acc017c78cb839b8bf4c7da1923bcbfda9cb4fa2e122e8bf
size 250810
